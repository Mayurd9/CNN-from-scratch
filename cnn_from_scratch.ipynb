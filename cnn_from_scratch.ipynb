{
  "cells": [
    {
      "cell_type": "markdown",
      "metadata": {
        "id": "view-in-github",
        "colab_type": "text"
      },
      "source": [
        "<a href=\"https://colab.research.google.com/github/Mayurd9/CNN-from-scratch/blob/main/cnn_from_scratch.ipynb\" target=\"_parent\"><img src=\"https://colab.research.google.com/assets/colab-badge.svg\" alt=\"Open In Colab\"/></a>"
      ]
    },
    {
      "cell_type": "code",
      "execution_count": null,
      "id": "2afaf8ee",
      "metadata": {
        "execution": {
          "iopub.execute_input": "2024-06-25T15:22:35.374183Z",
          "iopub.status.busy": "2024-06-25T15:22:35.373523Z",
          "iopub.status.idle": "2024-06-25T15:22:35.448615Z",
          "shell.execute_reply": "2024-06-25T15:22:35.447937Z"
        },
        "id": "2afaf8ee",
        "papermill": {
          "duration": 0.083599,
          "end_time": "2024-06-25T15:22:35.450580",
          "exception": false,
          "start_time": "2024-06-25T15:22:35.366981",
          "status": "completed"
        },
        "tags": []
      },
      "outputs": [],
      "source": [
        "import numpy as np\n",
        "import joblib\n",
        "import matplotlib.pyplot as plt"
      ]
    },
    {
      "cell_type": "markdown",
      "id": "1eeec88f",
      "metadata": {
        "papermill": {
          "duration": 0.004872,
          "end_time": "2024-06-25T15:22:35.460937",
          "exception": false,
          "start_time": "2024-06-25T15:22:35.456065",
          "status": "completed"
        },
        "tags": [],
        "id": "1eeec88f"
      },
      "source": [
        "# $\\textbf{Loading the data}$"
      ]
    },
    {
      "cell_type": "code",
      "execution_count": null,
      "id": "f524b211",
      "metadata": {
        "execution": {
          "iopub.execute_input": "2024-06-25T15:22:35.471886Z",
          "iopub.status.busy": "2024-06-25T15:22:35.471646Z",
          "iopub.status.idle": "2024-06-25T15:22:49.825797Z",
          "shell.execute_reply": "2024-06-25T15:22:49.825047Z"
        },
        "id": "f524b211",
        "outputId": "77bc3567-14b4-4b0c-9221-d8d90b64e872",
        "papermill": {
          "duration": 14.362296,
          "end_time": "2024-06-25T15:22:49.828210",
          "exception": false,
          "start_time": "2024-06-25T15:22:35.465914",
          "status": "completed"
        },
        "tags": []
      },
      "outputs": [
        {
          "name": "stderr",
          "output_type": "stream",
          "text": [
            "2024-06-25 15:22:37.653274: E external/local_xla/xla/stream_executor/cuda/cuda_dnn.cc:9261] Unable to register cuDNN factory: Attempting to register factory for plugin cuDNN when one has already been registered\n",
            "2024-06-25 15:22:37.653407: E external/local_xla/xla/stream_executor/cuda/cuda_fft.cc:607] Unable to register cuFFT factory: Attempting to register factory for plugin cuFFT when one has already been registered\n",
            "2024-06-25 15:22:37.825652: E external/local_xla/xla/stream_executor/cuda/cuda_blas.cc:1515] Unable to register cuBLAS factory: Attempting to register factory for plugin cuBLAS when one has already been registered\n"
          ]
        },
        {
          "name": "stdout",
          "output_type": "stream",
          "text": [
            "Downloading data from https://storage.googleapis.com/tensorflow/tf-keras-datasets/mnist.npz\n",
            "\u001b[1m11490434/11490434\u001b[0m \u001b[32m━━━━━━━━━━━━━━━━━━━━\u001b[0m\u001b[37m\u001b[0m \u001b[1m0s\u001b[0m 0us/step\n"
          ]
        }
      ],
      "source": [
        "import tensorflow as tf\n",
        "from keras.datasets import mnist\n",
        "\n",
        "# Load the dataset\n",
        "(x_train, y_train), (x_test, y_test) = mnist.load_data()"
      ]
    },
    {
      "cell_type": "markdown",
      "id": "badad0bb",
      "metadata": {
        "papermill": {
          "duration": 0.005418,
          "end_time": "2024-06-25T15:22:49.839424",
          "exception": false,
          "start_time": "2024-06-25T15:22:49.834006",
          "status": "completed"
        },
        "tags": [],
        "id": "badad0bb"
      },
      "source": [
        "# $\\textbf{Forward Pass (FeedForward) functions}$"
      ]
    },
    {
      "cell_type": "code",
      "execution_count": null,
      "id": "2ea3c913",
      "metadata": {
        "execution": {
          "iopub.execute_input": "2024-06-25T15:22:49.852528Z",
          "iopub.status.busy": "2024-06-25T15:22:49.851514Z",
          "iopub.status.idle": "2024-06-25T15:22:49.866452Z",
          "shell.execute_reply": "2024-06-25T15:22:49.865586Z"
        },
        "id": "2ea3c913",
        "papermill": {
          "duration": 0.023491,
          "end_time": "2024-06-25T15:22:49.868340",
          "exception": false,
          "start_time": "2024-06-25T15:22:49.844849",
          "status": "completed"
        },
        "tags": []
      },
      "outputs": [],
      "source": [
        "def ff_convolution(input_matrix, weights_c, biases_c, stride, pool_size):\n",
        "  n_filters=len(weights_c)\n",
        "  w_filter=weights_c[0].shape[2]\n",
        "  h_filter=weights_c[0].shape[1]\n",
        "  output_width= int(((input_matrix.shape[2]-w_filter)/stride)+1)\n",
        "  output_height= int(((input_matrix.shape[1]-h_filter)/stride)+1)\n",
        "  conv_out_matrix=np.zeros((n_filters,output_height,output_width))\n",
        "  flipped_weights=[np.flip(np.flip(wght , axis=1), axis=2) for wght in weights_c]\n",
        "  for i in range(n_filters):\n",
        "    for j in range(output_height):\n",
        "      for k in range(output_width):\n",
        "        conv_out_matrix[i,j,k]= np.sum(input_matrix[:, j*stride:j*stride+h_filter, k*stride:k*stride+w_filter]*flipped_weights[i]) + biases_c[i]\n",
        "\n",
        "  conv_out_matrix=np.maximum(0,conv_out_matrix)     #ReLu\n",
        "  conv_pool_matrix=np.zeros((n_filters, int(output_height/pool_size[0]), int(output_width/pool_size[1])))\n",
        "  max_indices=[]\n",
        "  for i in range(n_filters):\n",
        "    for j in range(conv_pool_matrix.shape[1]):\n",
        "      for k in range(conv_pool_matrix.shape[2]):\n",
        "        region=conv_out_matrix[i][j*pool_size[0]:(j+1)*pool_size[0],k*pool_size[1]:(k+1)*pool_size[1]]\n",
        "        conv_pool_matrix[i,j,k]=np.max(region)\n",
        "        max_indices.append((i,)+tuple(x + y for x, y in zip(np.unravel_index(np.argmax(region), region.shape),(j*pool_size[0],k*pool_size[1]))))\n",
        "  return conv_pool_matrix, conv_out_matrix, max_indices\n",
        "\n",
        "def ff_fc_layers(X, weights, biases, test):\n",
        "  L=len(weights)+1\n",
        "  a=[X]\n",
        "  z=[]\n",
        "  for k in range(L-1):\n",
        "    z.append(weights[k]@a[k] + biases[k])\n",
        "    a.append(sigmoid(z[k]))\n",
        "  if test==True:\n",
        "    return a[-1]\n",
        "  else:\n",
        "    return a,z\n",
        "\n",
        "def sigmoid(z):\n",
        "  return 1.0/(1.0+np.exp(-z))\n",
        "\n",
        "def sigmoid_prime(z):\n",
        " return sigmoid(z)*(1-sigmoid(z))"
      ]
    },
    {
      "cell_type": "markdown",
      "id": "e46fa334",
      "metadata": {
        "papermill": {
          "duration": 0.005349,
          "end_time": "2024-06-25T15:22:49.879130",
          "exception": false,
          "start_time": "2024-06-25T15:22:49.873781",
          "status": "completed"
        },
        "tags": [],
        "id": "e46fa334"
      },
      "source": [
        "# $\\textbf{Backpropagation functions}$"
      ]
    },
    {
      "cell_type": "code",
      "execution_count": null,
      "id": "91bf1538",
      "metadata": {
        "execution": {
          "iopub.execute_input": "2024-06-25T15:22:49.891482Z",
          "iopub.status.busy": "2024-06-25T15:22:49.891034Z",
          "iopub.status.idle": "2024-06-25T15:22:49.907937Z",
          "shell.execute_reply": "2024-06-25T15:22:49.907084Z"
        },
        "id": "91bf1538",
        "papermill": {
          "duration": 0.02521,
          "end_time": "2024-06-25T15:22:49.909840",
          "exception": false,
          "start_time": "2024-06-25T15:22:49.884630",
          "status": "completed"
        },
        "tags": []
      },
      "outputs": [],
      "source": [
        "def backprop_fc_layers(a,z,y,weights):\n",
        "  L=len(weights)+1\n",
        "  error=[(a[-1]-y)*sigmoid_prime(z[-1])]\n",
        "  del_c_w_x=[error[-1]@a[-2].T]\n",
        "  for l in range(2, L):\n",
        "    error.insert(0, (weights[-(l-1)].T @ error[-(l-1)])*sigmoid_prime(z[-l]))\n",
        "    del_c_w_x.insert(0, error[-l]@a[-l-1].T)\n",
        "\n",
        "  del_c_b_x = error.copy()\n",
        "  del_c_x= weights[0].T @ error[0]\n",
        "  return del_c_b_x, del_c_w_x, del_c_x\n",
        "\n",
        "def backprop_pool(del_c_x, max_indices, conv_pool_matrix, conv_out_matrix):\n",
        "  del_c_p= np.reshape(del_c_x, conv_pool_matrix.shape)\n",
        "  del_c_a= np.zeros(conv_out_matrix.shape)\n",
        "  c=0\n",
        "  for i in range(conv_pool_matrix.shape[0]):\n",
        "    for j in range(conv_pool_matrix.shape[1]):\n",
        "      for k in range(conv_pool_matrix.shape[2]):\n",
        "        del_c_a[max_indices[c]]=del_c_p[i,j,k]\n",
        "        c+=1\n",
        "  return del_c_a\n",
        "\n",
        "def backprop_convolution(del_c_a, conv_out_matrix,X,stride,n_filters, weights_c):\n",
        "  del_a_z=np.zeros(conv_out_matrix.shape)\n",
        "  for i in range(conv_out_matrix.shape[0]):\n",
        "    for j in range(conv_out_matrix.shape[1]):\n",
        "      for k in range(conv_out_matrix.shape[2]):\n",
        "        if conv_out_matrix[i,j,k]>0:\n",
        "          del_a_z[i,j,k]=1\n",
        "  del_c_z= del_c_a*del_a_z\n",
        "\n",
        "  del_c_z_flipped = np.flip(np.flip(del_c_z , axis=1), axis=2)\n",
        "  out_wi= int(((X.shape[2] - del_c_z.shape[2])/stride)+1)\n",
        "  out_hi= int(((X.shape[1] - del_c_z.shape[1])/stride)+1)\n",
        "  h_filter= out_hi\n",
        "  w_filter= out_wi\n",
        "  del_c_w_con= [np.zeros((X.shape[0],out_wi,out_hi)) for _ in range(n_filters)]\n",
        "  for i in range(n_filters):\n",
        "    for j in range(del_c_z.shape[1]):\n",
        "      for k in range(del_c_z.shape[2]):\n",
        "        del_c_w_con[i] += del_c_z_flipped[i,j,k] * X[:, j*stride:j*stride+h_filter, k*stride:k*stride+w_filter]\n",
        "\n",
        "  del_c_b_con=[np.sum(del_c_z[_]) for _ in range(n_filters)]\n",
        "\n",
        "  flipped_weights=[np.flip(np.flip(wght , axis=1), axis=2) for wght in weights_c]\n",
        "  del_c_x_con= np.zeros(X.shape)\n",
        "  h_filter=flipped_weights[0].shape[1]\n",
        "  w_filter=flipped_weights[0].shape[2]\n",
        "  for i in range(n_filters):\n",
        "    for j in range(del_c_z.shape[1]):\n",
        "      for k in range(del_c_z.shape[2]):\n",
        "        del_c_x_con[:, j*stride:j*stride+h_filter, k*stride:k*stride+w_filter] +=del_c_z[i,j,k]*flipped_weights[i]\n",
        "\n",
        "  return del_c_w_con, del_c_b_con, del_c_x_con"
      ]
    },
    {
      "cell_type": "markdown",
      "id": "f7f2ab83",
      "metadata": {
        "papermill": {
          "duration": 0.005598,
          "end_time": "2024-06-25T15:22:49.921118",
          "exception": false,
          "start_time": "2024-06-25T15:22:49.915520",
          "status": "completed"
        },
        "tags": [],
        "id": "f7f2ab83"
      },
      "source": [
        "# $\\textbf{Function for Training}$"
      ]
    },
    {
      "cell_type": "code",
      "execution_count": null,
      "id": "fb9bd702",
      "metadata": {
        "execution": {
          "iopub.execute_input": "2024-06-25T15:22:49.933479Z",
          "iopub.status.busy": "2024-06-25T15:22:49.933228Z",
          "iopub.status.idle": "2024-06-25T15:22:49.957959Z",
          "shell.execute_reply": "2024-06-25T15:22:49.957050Z"
        },
        "id": "fb9bd702",
        "papermill": {
          "duration": 0.033203,
          "end_time": "2024-06-25T15:22:49.959883",
          "exception": false,
          "start_time": "2024-06-25T15:22:49.926680",
          "status": "completed"
        },
        "tags": []
      },
      "outputs": [],
      "source": [
        "def cnn_network_train(x_train,y_train,n_cnn, cnn_specs, sizes, epochs,eta,minibatch_size):\n",
        "\n",
        "  list_cnn_weights=[[np.random.randn(cnn_specs[c][0][0],cnn_specs[c][2][1],cnn_specs[c][2][2]) for _ in range(cnn_specs[c][1])] for c in range(n_cnn) ]\n",
        "  list_cnn_biases=[[np.random.randn(1,1)[0][0] for _ in range(cnn_specs[c][1])] for c in range(n_cnn)]\n",
        "  biases = [np.random.randn(y, 1) for y in sizes[1:]]     #biases for fully connected layer\n",
        "  weights = [np.random.randn(y, x)/np.sqrt(x) for x, y in zip(sizes[:-1], sizes[1:])]        #weights for fully connected layer\n",
        "\n",
        "  for epoch in range(epochs):\n",
        "    print('epoch number', epoch)\n",
        "    indices=np.arange(60000)\n",
        "    np.random.shuffle(indices)\n",
        "    for i in range(int(60000/minibatch_size)):\n",
        "      if i%1000==0:\n",
        "        print('i=',i)\n",
        "      minibatch_indices=indices[i*minibatch_size:(i+1)*minibatch_size]\n",
        "      mini_batch_x = x_train[minibatch_indices]\n",
        "      mini_batch_y = y_train[minibatch_indices]\n",
        "\n",
        "      for j in range(len(mini_batch_x)):\n",
        "\n",
        "        y= np.zeros((10,1))\n",
        "        y[mini_batch_y[j]]=1\n",
        "        conv_pool_matrix_list=[]\n",
        "        conv_out_matrix_list=[]\n",
        "        max_indices_list=[]\n",
        "        conv_layer_input=[]\n",
        "        for a in range(n_cnn):\n",
        "          weights_c=list_cnn_weights[a]\n",
        "          biases_c=list_cnn_biases[a]\n",
        "          stride=cnn_specs[a][3]\n",
        "          pool_size=cnn_specs[a][4]\n",
        "          #Forward propagation\n",
        "          if a==0:\n",
        "            input=mini_batch_x[j].reshape(1,28,28)/255.0\n",
        "          else:\n",
        "            input=conv_pool_matrix_list[-1]\n",
        "          conv_layer_input.append(input)\n",
        "          conv_pool_matrix, conv_out_matrix, max_indices = ff_convolution(input, weights_c, biases_c, stride, pool_size)\n",
        "          conv_pool_matrix_list.append(conv_pool_matrix)\n",
        "          conv_out_matrix_list.append(conv_out_matrix)\n",
        "          max_indices_list.append(max_indices)\n",
        "\n",
        "        a_list ,z= ff_fc_layers(conv_pool_matrix_list[-1].reshape(-1,1), weights, biases,test=False)\n",
        "\n",
        "        #Back propagation\n",
        "        del_c_b_x, del_c_w_x, del_c_x = backprop_fc_layers(a_list,z,y,weights)\n",
        "        del_c_w_con_list=[]\n",
        "        del_c_b_con_list=[]\n",
        "        del_c_x_in = del_c_x\n",
        "        for a in range(n_cnn):\n",
        "          weights_c=list_cnn_weights[-1+a]\n",
        "          biases_c=list_cnn_biases[-1+a]\n",
        "          stride=cnn_specs[-1+a][3]\n",
        "          pool_size=cnn_specs[-1+a][4]\n",
        "          n_filters=cnn_specs[-1+a][1]\n",
        "\n",
        "          del_c_a = backprop_pool(del_c_x_in, max_indices_list[-1+a], conv_pool_matrix_list[-1+a], conv_out_matrix_list[-1+a])\n",
        "          del_c_w_con, del_c_b_con, del_c_x_con = backprop_convolution(del_c_a, conv_out_matrix_list[-1+a],conv_layer_input[-1+a],stride,n_filters, weights_c)\n",
        "          del_c_w_con_list.insert(0,del_c_w_con)\n",
        "          del_c_b_con_list.insert(0,del_c_b_con)\n",
        "          del_c_x_in = del_c_x_con.copy()\n",
        "\n",
        "        if j==0:\n",
        "          del_c_b = del_c_b_x.copy()\n",
        "          del_c_w = del_c_w_x.copy()\n",
        "          del_c_w_con_list_batch = del_c_w_con_list.copy()\n",
        "          del_c_b_con_list_batch = del_c_b_con_list.copy()\n",
        "\n",
        "        else:\n",
        "          for m in range(len(del_c_b)):\n",
        "            del_c_b[m] += del_c_b_x[m]\n",
        "            del_c_w[m] += del_c_w_x[m]\n",
        "\n",
        "          for a in range(n_cnn):\n",
        "            for b in range(cnn_specs[a][1]):\n",
        "              del_c_w_con_list_batch[a][b]+=del_c_w_con_list[a][b]\n",
        "              del_c_b_con_list_batch[a][b]+=del_c_b_con_list[a][b]\n",
        "\n",
        "      for n in range(len(sizes)-1):\n",
        "        weights[n] = weights[n] - (eta/minibatch_size)*del_c_w[n]\n",
        "        biases[n] = biases[n] - (eta/minibatch_size)*del_c_b[n]\n",
        "\n",
        "      for a in range(n_cnn):\n",
        "        for b in range(cnn_specs[a][1]):\n",
        "          list_cnn_weights[a][b] = list_cnn_weights[a][b] - (eta/minibatch_size)*del_c_w_con_list_batch[a][b]\n",
        "          list_cnn_biases[a][b] = list_cnn_biases[a][b] - (eta/minibatch_size)*del_c_b_con_list_batch[a][b]\n",
        "      if i%1000==0:\n",
        "        cnn_testing(x_train[:100],y_train[:100], cnn_specs, sizes, list_cnn_weights, list_cnn_biases, weights, biases,accuracy=True)\n",
        "\n",
        "  return list_cnn_weights,list_cnn_biases, weights, biases"
      ]
    },
    {
      "cell_type": "markdown",
      "id": "76ec9525",
      "metadata": {
        "papermill": {
          "duration": 0.005917,
          "end_time": "2024-06-25T15:22:49.971456",
          "exception": false,
          "start_time": "2024-06-25T15:22:49.965539",
          "status": "completed"
        },
        "tags": [],
        "id": "76ec9525"
      },
      "source": [
        "# $\\textbf{Function for Testing}$"
      ]
    },
    {
      "cell_type": "code",
      "execution_count": null,
      "id": "78d39f40",
      "metadata": {
        "execution": {
          "iopub.execute_input": "2024-06-25T15:22:49.984630Z",
          "iopub.status.busy": "2024-06-25T15:22:49.984367Z",
          "iopub.status.idle": "2024-06-25T15:22:49.993781Z",
          "shell.execute_reply": "2024-06-25T15:22:49.992932Z"
        },
        "id": "78d39f40",
        "papermill": {
          "duration": 0.018283,
          "end_time": "2024-06-25T15:22:49.995808",
          "exception": false,
          "start_time": "2024-06-25T15:22:49.977525",
          "status": "completed"
        },
        "tags": []
      },
      "outputs": [],
      "source": [
        "#Testing\n",
        "def cnn_testing(x_test,y_test, cnn_specs, sizes, list_cnn_weights, list_cnn_biases, weights, biases, accuracy):\n",
        "  n_cnn=len(cnn_specs)\n",
        "  if accuracy==True:\n",
        "    length=len(x_test)\n",
        "  else:\n",
        "    length=1\n",
        "\n",
        "  c=0\n",
        "  for o in range(length):\n",
        "    if accuracy==True:\n",
        "      input=x_test[o].reshape(1,28,28)/255.0\n",
        "    else:\n",
        "      input=x_test.reshape(1,28,28)/255.0\n",
        "    conv_pool_matrix_list=[]\n",
        "    for a in range(n_cnn):\n",
        "      weights_c=list_cnn_weights[a]\n",
        "      biases_c=list_cnn_biases[a]\n",
        "      stride=cnn_specs[a][3]\n",
        "      pool_size=cnn_specs[a][4]\n",
        "      #Forward propagation\n",
        "      if a!=0:\n",
        "        input=conv_pool_matrix_list[-1]\n",
        "      conv_pool_matrix, conv_out_matrix, max_indices = ff_convolution(input, weights_c, biases_c, stride, pool_size)\n",
        "      conv_pool_matrix_list.append(conv_pool_matrix)\n",
        "\n",
        "    pred_label = np.argmax(ff_fc_layers(conv_pool_matrix_list[-1].reshape(-1,1), weights, biases,test=True))\n",
        "    if accuracy==True:\n",
        "      if pred_label == y_test[o]:\n",
        "        c+=1\n",
        "  if accuracy==False:\n",
        "    return pred_label\n",
        "  else:\n",
        "    print('Accuracy=', 100*c/len(x_test))"
      ]
    },
    {
      "cell_type": "markdown",
      "id": "4f0d1c43",
      "metadata": {
        "papermill": {
          "duration": 0.005976,
          "end_time": "2024-06-25T15:22:50.008094",
          "exception": false,
          "start_time": "2024-06-25T15:22:50.002118",
          "status": "completed"
        },
        "tags": [],
        "id": "4f0d1c43"
      },
      "source": [
        "# $\\textbf{Training}$"
      ]
    },
    {
      "cell_type": "code",
      "execution_count": null,
      "id": "6daf6691",
      "metadata": {
        "execution": {
          "iopub.execute_input": "2024-06-25T15:22:50.021851Z",
          "iopub.status.busy": "2024-06-25T15:22:50.021564Z",
          "iopub.status.idle": "2024-06-25T21:58:09.450208Z",
          "shell.execute_reply": "2024-06-25T21:58:09.449264Z"
        },
        "id": "6daf6691",
        "outputId": "c441ddd3-7161-4e91-dbcc-e2198c442f6a",
        "papermill": {
          "duration": 23719.438388,
          "end_time": "2024-06-25T21:58:09.453230",
          "exception": false,
          "start_time": "2024-06-25T15:22:50.014842",
          "status": "completed"
        },
        "tags": []
      },
      "outputs": [
        {
          "name": "stdout",
          "output_type": "stream",
          "text": [
            "epoch number 0\n",
            "i= 0\n",
            "Accuracy= 11.0\n",
            "i= 1000\n",
            "Accuracy= 94.0\n",
            "i= 2000\n",
            "Accuracy= 95.0\n",
            "i= 3000\n",
            "Accuracy= 96.0\n",
            "i= 4000\n",
            "Accuracy= 96.0\n",
            "i= 5000\n",
            "Accuracy= 96.0\n"
          ]
        }
      ],
      "source": [
        "#number of convolution layers\n",
        "n_cnn=1\n",
        "\n",
        "#Provide CNN Layer specification in the format: [input matrix size(tuple), No. of filters, filter size(tuple), stride, pool filter shape(tuple)]\n",
        "cnn_specs=[[(1,28,28),20,(1,5,5),1,(2,2)]]\n",
        "\n",
        "#Provide NN specs in the format(string of:): [comma seperated number of neurons in each layer]\n",
        "sizes=[2880,100,10]\n",
        "\n",
        "list_cnn_weights,list_cnn_biases, weights, biases=cnn_network_train(x_train,y_train,n_cnn, cnn_specs, sizes, epochs=1,eta=0.5,minibatch_size=10)"
      ]
    },
    {
      "cell_type": "code",
      "execution_count": null,
      "id": "699e529c",
      "metadata": {
        "execution": {
          "iopub.execute_input": "2024-06-25T21:58:09.468845Z",
          "iopub.status.busy": "2024-06-25T21:58:09.468568Z",
          "iopub.status.idle": "2024-06-25T21:58:09.482913Z",
          "shell.execute_reply": "2024-06-25T21:58:09.482061Z"
        },
        "id": "699e529c",
        "papermill": {
          "duration": 0.024075,
          "end_time": "2024-06-25T21:58:09.484808",
          "exception": false,
          "start_time": "2024-06-25T21:58:09.460733",
          "status": "completed"
        },
        "tags": [],
        "outputId": "040c13e4-874f-4f6f-b39e-1c57bf68ba68"
      },
      "outputs": [
        {
          "data": {
            "text/plain": [
              "['list_cnn_biases.joblib']"
            ]
          },
          "execution_count": 8,
          "metadata": {},
          "output_type": "execute_result"
        }
      ],
      "source": [
        "import joblib\n",
        "joblib.dump(weights , 'weights.joblib')\n",
        "joblib.dump(biases , 'biases.joblib')\n",
        "joblib.dump(list_cnn_weights , 'list_cnn_weights.joblib')\n",
        "joblib.dump(list_cnn_biases , 'list_cnn_biases.joblib')"
      ]
    },
    {
      "cell_type": "code",
      "execution_count": null,
      "id": "cbe32f47",
      "metadata": {
        "execution": {
          "iopub.execute_input": "2024-06-25T21:58:09.499745Z",
          "iopub.status.busy": "2024-06-25T21:58:09.499482Z",
          "iopub.status.idle": "2024-06-25T21:58:09.508182Z",
          "shell.execute_reply": "2024-06-25T21:58:09.507387Z"
        },
        "id": "cbe32f47",
        "papermill": {
          "duration": 0.018288,
          "end_time": "2024-06-25T21:58:09.510152",
          "exception": false,
          "start_time": "2024-06-25T21:58:09.491864",
          "status": "completed"
        },
        "tags": []
      },
      "outputs": [],
      "source": [
        "import joblib\n",
        "list_cnn_weights=joblib.load('list_cnn_weights.joblib')\n",
        "list_cnn_biases=joblib.load('list_cnn_biases.joblib')\n",
        "weights=joblib.load('weights.joblib')\n",
        "biases=joblib.load('biases.joblib')"
      ]
    },
    {
      "cell_type": "markdown",
      "id": "de3fde35",
      "metadata": {
        "papermill": {
          "duration": 0.007287,
          "end_time": "2024-06-25T21:58:09.524700",
          "exception": false,
          "start_time": "2024-06-25T21:58:09.517413",
          "status": "completed"
        },
        "tags": [],
        "id": "de3fde35"
      },
      "source": [
        "# $\\textbf{Testing}$"
      ]
    },
    {
      "cell_type": "code",
      "execution_count": null,
      "id": "98b8c56e",
      "metadata": {
        "execution": {
          "iopub.execute_input": "2024-06-25T21:58:09.539615Z",
          "iopub.status.busy": "2024-06-25T21:58:09.539317Z",
          "iopub.status.idle": "2024-06-25T22:37:33.505100Z",
          "shell.execute_reply": "2024-06-25T22:37:33.503825Z"
        },
        "id": "98b8c56e",
        "outputId": "bd8f155b-6b85-40a2-d74a-c8e1121cf77c",
        "papermill": {
          "duration": 2363.993031,
          "end_time": "2024-06-25T22:37:33.524630",
          "exception": false,
          "start_time": "2024-06-25T21:58:09.531599",
          "status": "completed"
        },
        "tags": []
      },
      "outputs": [
        {
          "name": "stdout",
          "output_type": "stream",
          "text": [
            "Accuracy= 97.49\n"
          ]
        }
      ],
      "source": [
        "cnn_testing(x_test,y_test, cnn_specs, sizes, list_cnn_weights, list_cnn_biases, weights, biases,accuracy=True)"
      ]
    },
    {
      "cell_type": "markdown",
      "id": "53b83b43",
      "metadata": {
        "papermill": {
          "duration": 0.014866,
          "end_time": "2024-06-25T22:37:33.554951",
          "exception": false,
          "start_time": "2024-06-25T22:37:33.540085",
          "status": "completed"
        },
        "tags": [],
        "id": "53b83b43"
      },
      "source": [
        "# $\\textbf{Testing on Random Image}$"
      ]
    },
    {
      "cell_type": "code",
      "execution_count": null,
      "id": "25487d11",
      "metadata": {
        "execution": {
          "iopub.execute_input": "2024-06-25T22:37:33.587109Z",
          "iopub.status.busy": "2024-06-25T22:37:33.586584Z",
          "iopub.status.idle": "2024-06-25T22:37:34.074408Z",
          "shell.execute_reply": "2024-06-25T22:37:34.073464Z"
        },
        "id": "25487d11",
        "outputId": "f3bb468b-ef9d-477c-9d2c-8f5a18eefea0",
        "papermill": {
          "duration": 0.506821,
          "end_time": "2024-06-25T22:37:34.076513",
          "exception": false,
          "start_time": "2024-06-25T22:37:33.569692",
          "status": "completed"
        },
        "tags": []
      },
      "outputs": [
        {
          "name": "stdout",
          "output_type": "stream",
          "text": [
            "Predicted label =  8\n"
          ]
        },
        {
          "data": {
            "image/png": "[encoded data removed]",
            "text/plain": [
              "<Figure size 640x480 with 1 Axes>"
            ]
          },
          "metadata": {},
          "output_type": "display_data"
        }
      ],
      "source": [
        "n_cnn=1\n",
        "cnn_specs=[[(1,28,28),20,(1,5,5),1,(2,2)]]\n",
        "sizes=[2880,100,10]\n",
        "random_index = np.random.randint(10000)\n",
        "plt.imshow(x_test[random_index], cmap= 'gray')\n",
        "\n",
        "pred_label = cnn_testing(x_test[random_index] , y_test[random_index], cnn_specs, sizes, list_cnn_weights, list_cnn_biases, weights, biases,accuracy=False)\n",
        "print('Predicted label = ', pred_label)"
      ]
    },
    {
      "cell_type": "code",
      "execution_count": null,
      "id": "2d8c92f7",
      "metadata": {
        "id": "2d8c92f7",
        "papermill": {
          "duration": 0.007487,
          "end_time": "2024-06-25T22:37:34.116369",
          "exception": false,
          "start_time": "2024-06-25T22:37:34.108882",
          "status": "completed"
        },
        "tags": []
      },
      "outputs": [],
      "source": []
    }
  ],
  "metadata": {
    "accelerator": "GPU",
    "colab": {
      "gpuType": "T4",
      "provenance": [],
      "include_colab_link": true
    },
    "kaggle": {
      "accelerator": "nvidiaTeslaT4",
      "dataSources": [],
      "dockerImageVersionId": 30733,
      "isGpuEnabled": true,
      "isInternetEnabled": true,
      "language": "python",
      "sourceType": "notebook"
    },
    "kernelspec": {
      "display_name": "Python 3",
      "language": "python",
      "name": "python3"
    },
    "language_info": {
      "codemirror_mode": {
        "name": "ipython",
        "version": 3
      },
      "file_extension": ".py",
      "mimetype": "text/x-python",
      "name": "python",
      "nbconvert_exporter": "python",
      "pygments_lexer": "ipython3",
      "version": "3.10.13"
    },
    "papermill": {
      "default_parameters": {},
      "duration": 26103.945103,
      "end_time": "2024-06-25T22:37:36.375350",
      "environment_variables": {},
      "exception": null,
      "input_path": "__notebook__.ipynb",
      "output_path": "__notebook__.ipynb",
      "parameters": {},
      "start_time": "2024-06-25T15:22:32.430247",
      "version": "2.5.0"
    }
  },
  "nbformat": 4,
  "nbformat_minor": 5
}